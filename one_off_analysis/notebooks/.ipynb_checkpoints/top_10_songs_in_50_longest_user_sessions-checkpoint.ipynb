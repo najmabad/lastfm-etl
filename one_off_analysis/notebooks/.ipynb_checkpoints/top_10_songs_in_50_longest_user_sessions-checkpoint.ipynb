{
 "cells": [
  {
   "cell_type": "code",
   "execution_count": 11,
   "id": "96a83ce3-7098-4e81-9f0e-20b5bd635c9b",
   "metadata": {},
   "outputs": [],
   "source": [
    "from pyspark.sql import SparkSession\n",
    "from pyspark.sql import functions as F\n",
    "\n",
    "spark = SparkSession.builder.getOrCreate()"
   ]
  },
  {
   "cell_type": "markdown",
   "id": "1e485bcb-ae9a-4631-9ef7-0cb7ef6fa9a1",
   "metadata": {},
   "source": [
    "# One-Off Analysis of Top 10 Songs in 50 Longest User Sessions"
   ]
  },
  {
   "cell_type": "markdown",
   "id": "35a52908-d2f3-4140-8240-c8fa7337be83",
   "metadata": {},
   "source": [
    "## 🎯 Objective"
   ]
  },
  {
   "cell_type": "markdown",
   "id": "2368173c-ec7e-4c4e-9e7b-c1fdfb340bb4",
   "metadata": {},
   "source": [
    "This analysis aims to identify the **top 10 songs played in the top 50 longest user sessions** from the Last.fm Dataset-1K. <br>\n",
    "Identifying the top 10 songs will offer insights into which tracks are most popular among users who engage in extended listening sessions.\n",
    "\n"
   ]
  },
  {
   "cell_type": "markdown",
   "id": "35090006-3ad6-4058-859f-bbe69f9ca9fb",
   "metadata": {},
   "source": [
    "## 📚 Background & Definitions"
   ]
  },
  {
   "cell_type": "markdown",
   "id": "e00692e8-c5d0-4f9e-8bdf-b1b731d68810",
   "metadata": {},
   "source": [
    "We analyse user listening data from Last.fm.\n",
    "\n",
    "_What is Last.fm?_ <br>\n",
    "Last.fm is a service that allows users to track their music streaming activities across various devices and platforms. <br>\n",
    "Last.fm uses this data to create user profiles on Last.fm, which showcase individual music statistics, listening history, and support personalized music recommendations. \n",
    "\n",
    "\n",
    "In this analysis, we define:\n",
    "\n",
    "- **Session**: a sequence of songs played by a user where each song is played within 20 minutes of the previous one.\n",
    "- **Top 50 longest sessions**: the sessions with the longest duration.\n",
    "- **Top 10 songs**: the songs that are played most frequently within the longest sessions."
   ]
  },
  {
   "cell_type": "markdown",
   "id": "cf6a8c3e-0837-4ca3-8ce9-aafc085dce10",
   "metadata": {},
   "source": [
    "## 🥁 Data "
   ]
  },
  {
   "cell_type": "markdown",
   "id": "33f88904-eb34-422d-a5df-5fa025bb6da0",
   "metadata": {},
   "source": [
    "The data was compiled and distributed by Oscar Celma and is available for non-commercial use.\n",
    "You can find more information [here](http://ocelma.net/MusicRecommendationDataset/lastfm-1K.html).\n",
    "\n",
    "We use the Last.fm Dataset - 1K, which includes the listening habits of 1,000 users during a period from February 2005 to September 2013. <br> \n",
    "This data captures detailed information about each song played by these users, including timestamps of when each track was played."
   ]
  },
  {
   "cell_type": "markdown",
   "id": "2bf90442-3b0a-4b80-9d86-2bb08371ef52",
   "metadata": {},
   "source": [
    "### Fetch the data"
   ]
  },
  {
   "cell_type": "code",
   "execution_count": 3,
   "id": "ffc3a91f-79f9-4731-8ba2-e81a9b24ddd5",
   "metadata": {},
   "outputs": [],
   "source": [
    "import logging\n",
    "from tqdm import tqdm\n",
    "import urllib.request\n",
    "import os\n",
    "import tarfile\n",
    "\n",
    "logging.basicConfig(level=logging.INFO)\n",
    "logger = logging.getLogger()"
   ]
  },
  {
   "cell_type": "code",
   "execution_count": 4,
   "id": "08262e14-59b3-4aca-a18b-e78c8063fa7c",
   "metadata": {},
   "outputs": [],
   "source": [
    "config = {\n",
    "    \"data_directory\": \"data\",\n",
    "    \"output_directory\": \"results\",\n",
    "    \"url\": \"http://mtg.upf.edu/static/datasets/last.fm/lastfm-dataset-1K.tar.gz\",\n",
    "    \"expected_files\": [\n",
    "        \"lastfm-dataset-1K/userid-profile.tsv\",\n",
    "        \"lastfm-dataset-1K/userid-timestamp-artid-artname-traid-traname.tsv\"\n",
    "    ]\n",
    "}"
   ]
  },
  {
   "cell_type": "code",
   "execution_count": 5,
   "id": "a629e147-6e4d-4afa-aa55-6373f76bcda4",
   "metadata": {},
   "outputs": [],
   "source": [
    "data_dir = config[\"data_directory\"]\n",
    "url = config['url']\n",
    "expected_filepaths = [os.path.join(data_dir, path) for path in config[\"expected_files\"]]"
   ]
  },
  {
   "cell_type": "code",
   "execution_count": 5,
   "id": "d40427bf-bef5-4094-8f27-f9c3f58b52f2",
   "metadata": {},
   "outputs": [],
   "source": [
    "class DownloadProgressBar(tqdm):\n",
    "    def update_to(self, b=1, bsize=1, tsize=None):\n",
    "        if tsize is not None:\n",
    "            self.total = tsize\n",
    "        self.update(b * bsize - self.n)"
   ]
  },
  {
   "cell_type": "code",
   "execution_count": 6,
   "id": "1e7690be-eabc-409f-8b1d-446d3d1d842a",
   "metadata": {},
   "outputs": [],
   "source": [
    "def download_file(url: str, dest_path: str) -> None:\n",
    "    \"\"\"Download a file from a URL to a destination path with a progress bar\"\"\"\n",
    "    logger.info(f\"Downloading the data from {url}\")\n",
    "\n",
    "    with DownloadProgressBar(\n",
    "        unit=\"B\", unit_scale=True, miniters=1, desc=url.split(\"/\")[-1]\n",
    "    ) as t:\n",
    "        urllib.request.urlretrieve(url, filename=dest_path, reporthook=t.update_to)\n",
    "\n",
    "    logger.info(\"Download completed\")"
   ]
  },
  {
   "cell_type": "code",
   "execution_count": 7,
   "id": "fa50c31f-8e06-44d0-9bb4-8897aa3edfc2",
   "metadata": {},
   "outputs": [],
   "source": [
    "def extract_file(tar_path: str, extract_path: str) -> None:\n",
    "    \"\"\"Extract a tar.gz file to a specified path with a progress bar\"\"\"\n",
    "    logger.info(\"Unzipping the tar.gz file\")\n",
    "\n",
    "    with tarfile.open(tar_path, \"r:gz\") as tar:\n",
    "        total = len(tar.getmembers())\n",
    "\n",
    "        with tqdm(total=total, unit=\"files\", desc=\"Extracting files\") as progress:\n",
    "            for member in tar.getmembers():\n",
    "                print(f\"Extracting: {member.name}\")\n",
    "                tar.extract(member, path=extract_path)\n",
    "                progress.update(1)\n",
    "\n",
    "    logger.info(\"Files extracted\")"
   ]
  },
  {
   "cell_type": "code",
   "execution_count": 8,
   "id": "583cb577-33aa-4a92-8ef1-4b472febf2cc",
   "metadata": {},
   "outputs": [],
   "source": [
    "def is_data_extracted(data_dir: str, expected_files: list) -> None:\n",
    "    \"\"\"Check if the data directory contains the specific .tsv files.\n",
    "\n",
    "    Returns True if both .tsv files are present, False otherwise.\n",
    "    \"\"\"\n",
    "    return all(os.path.isfile(file_path) for file_path in expected_files)\n"
   ]
  },
  {
   "cell_type": "code",
   "execution_count": 9,
   "id": "4ebbd34c-20ab-434b-a353-84bc84cdb6c0",
   "metadata": {},
   "outputs": [],
   "source": [
    "def extract(data_dir: str, url: str, expected_files: list) -> None:\n",
    "    \"\"\"Checks if the data directory contains required .tsv files. If not, downloads and extracts the datasets\"\"\"\n",
    "\n",
    "    if not is_data_extracted(data_dir, expected_files):\n",
    "        logger.info(f\"Required files are missing in {data_dir}\")\n",
    "        filename = url.split(\"/\")[-1]\n",
    "        file_path = os.path.join(data_dir, filename)\n",
    "        download_file(url, file_path)\n",
    "        extract_file(file_path, data_dir)\n",
    "    else:\n",
    "        logger.info(\"All required files are present. Skipping download.\")"
   ]
  },
  {
   "cell_type": "code",
   "execution_count": 10,
   "id": "0e536276-d53d-43de-83db-96cd802359ff",
   "metadata": {},
   "outputs": [
    {
     "name": "stderr",
     "output_type": "stream",
     "text": [
      "INFO:root:Required files are missing in data\n",
      "INFO:root:Downloading the data from http://mtg.upf.edu/static/datasets/last.fm/lastfm-dataset-1K.tar.gz\n",
      "lastfm-dataset-1K.tar.gz: 673MB [05:27, 2.06MB/s]                              \n",
      "INFO:root:Download completed\n",
      "INFO:root:Unzipping the tar.gz file\n",
      "Extracting files:  75%|███████▌  | 3/4 [00:00<00:00, 29.65files/s]"
     ]
    },
    {
     "name": "stdout",
     "output_type": "stream",
     "text": [
      "Extracting: lastfm-dataset-1K\n",
      "Extracting: lastfm-dataset-1K/userid-profile.tsv\n",
      "Extracting: lastfm-dataset-1K/README.txt\n",
      "Extracting: lastfm-dataset-1K/userid-timestamp-artid-artname-traid-traname.tsv\n"
     ]
    },
    {
     "name": "stderr",
     "output_type": "stream",
     "text": [
      "Extracting files: 100%|██████████| 4/4 [04:17<00:00, 64.41s/files]\n",
      "INFO:root:Files extracted\n"
     ]
    }
   ],
   "source": [
    "extract(data_dir, url, expected_filepaths)"
   ]
  },
  {
   "cell_type": "markdown",
   "id": "40328939-5885-4c46-8c4f-4259b165f55b",
   "metadata": {},
   "source": [
    "### Load the data"
   ]
  },
  {
   "cell_type": "code",
   "execution_count": 6,
   "id": "cf2e0015-68f9-46b5-bf0e-f45a8d0140e3",
   "metadata": {},
   "outputs": [],
   "source": [
    "def print_first_n_lines(file_path, n=5):\n",
    "    \"\"\"Print the first n lines of a file.\"\"\"\n",
    "    try:\n",
    "        with open(file_path, 'r') as file:\n",
    "            for i in range(n):\n",
    "                print(file.readline().strip())\n",
    "    except FileNotFoundError:\n",
    "        print(\"File not found.\")\n",
    "    except Exception as e:\n",
    "        print(f\"An error occurred: {e}\")"
   ]
  },
  {
   "cell_type": "markdown",
   "id": "bef5f123-af34-45e3-a5b9-f127003c8c54",
   "metadata": {},
   "source": [
    "#### Users"
   ]
  },
  {
   "cell_type": "code",
   "execution_count": 7,
   "id": "f4304f24-cd64-44fa-af16-1d65d029320d",
   "metadata": {},
   "outputs": [],
   "source": [
    "users_path = expected_filepaths[0]"
   ]
  },
  {
   "cell_type": "code",
   "execution_count": 13,
   "id": "ecd3d534-6b10-49ca-8782-ed88ff21dd91",
   "metadata": {},
   "outputs": [
    {
     "name": "stdout",
     "output_type": "stream",
     "text": [
      "#id\tgender\tage\tcountry\tregistered\n",
      "user_000001\tm\t\tJapan\tAug 13, 2006\n",
      "user_000002\tf\t\tPeru\tFeb 24, 2006\n",
      "user_000003\tm\t22\tUnited States\tOct 30, 2005\n",
      "user_000004\tf\t\t\tApr 26, 2006\n"
     ]
    }
   ],
   "source": [
    "print_first_n_lines(users_path)"
   ]
  },
  {
   "cell_type": "code",
   "execution_count": 14,
   "id": "a8c6ed02-bd5b-4dba-9f5e-b6f2e8f80f8c",
   "metadata": {},
   "outputs": [
    {
     "name": "stdout",
     "output_type": "stream",
     "text": [
      "+-----------+------+----+-------------+------------+\n",
      "|#id        |gender|age |country      |registered  |\n",
      "+-----------+------+----+-------------+------------+\n",
      "|user_000001|m     |NULL|Japan        |Aug 13, 2006|\n",
      "|user_000002|f     |NULL|Peru         |Feb 24, 2006|\n",
      "|user_000003|m     |22  |United States|Oct 30, 2005|\n",
      "|user_000004|f     |NULL|NULL         |Apr 26, 2006|\n",
      "|user_000005|m     |NULL|Bulgaria     |Jun 29, 2006|\n",
      "+-----------+------+----+-------------+------------+\n",
      "only showing top 5 rows\n",
      "\n"
     ]
    }
   ],
   "source": [
    "users = spark.read.csv(users_path, sep=\"\\t\", header=True).cache()\n",
    "\n",
    "users.show(5, truncate=False)"
   ]
  },
  {
   "cell_type": "code",
   "execution_count": 15,
   "id": "7414d5e1-7c67-4438-a0aa-01311fd981a0",
   "metadata": {},
   "outputs": [
    {
     "name": "stdout",
     "output_type": "stream",
     "text": [
      "root\n",
      " |-- #id: string (nullable = true)\n",
      " |-- gender: string (nullable = true)\n",
      " |-- age: string (nullable = true)\n",
      " |-- country: string (nullable = true)\n",
      " |-- registered: string (nullable = true)\n",
      "\n"
     ]
    }
   ],
   "source": [
    "users.printSchema()"
   ]
  },
  {
   "cell_type": "markdown",
   "id": "2b88688f-c390-4ab0-81b5-d64254c5e3b8",
   "metadata": {},
   "source": [
    "Notes:\n",
    "- If we need to use this dataset, we should cast `age` into IntegerType and `registered` into DateType\n",
    "- For the purpose of this analysis, we don't need any of the information of this dataset, so we remove it from the cache"
   ]
  },
  {
   "cell_type": "code",
   "execution_count": 16,
   "id": "b073e7fa-d403-44b7-8961-359e639fe894",
   "metadata": {},
   "outputs": [
    {
     "data": {
      "text/plain": [
       "DataFrame[#id: string, gender: string, age: string, country: string, registered: string]"
      ]
     },
     "execution_count": 16,
     "metadata": {},
     "output_type": "execute_result"
    }
   ],
   "source": [
    "users.unpersist()"
   ]
  },
  {
   "cell_type": "markdown",
   "id": "1fd1e4aa-4fd1-4646-b369-e3d084c0281c",
   "metadata": {},
   "source": [
    "#### Events"
   ]
  },
  {
   "cell_type": "code",
   "execution_count": 8,
   "id": "1b36f5ac-fd3a-46c9-97c4-cfc6cf49a59f",
   "metadata": {},
   "outputs": [
    {
     "name": "stdout",
     "output_type": "stream",
     "text": [
      "user_000001\t2009-05-04T23:08:57Z\tf1b1cf71-bd35-4e99-8624-24a6e15f133a\tDeep Dish\t\tFuck Me Im Famous (Pacha Ibiza)-09-28-2007\n",
      "user_000001\t2009-05-04T13:54:10Z\ta7f7df4a-77d8-4f12-8acd-5c60c93f4de8\t坂本龍一\t\tComposition 0919 (Live_2009_4_15)\n",
      "user_000001\t2009-05-04T13:52:04Z\ta7f7df4a-77d8-4f12-8acd-5c60c93f4de8\t坂本龍一\t\tMc2 (Live_2009_4_15)\n",
      "user_000001\t2009-05-04T13:42:52Z\ta7f7df4a-77d8-4f12-8acd-5c60c93f4de8\t坂本龍一\t\tHibari (Live_2009_4_15)\n",
      "user_000001\t2009-05-04T13:42:11Z\ta7f7df4a-77d8-4f12-8acd-5c60c93f4de8\t坂本龍一\t\tMc1 (Live_2009_4_15)\n"
     ]
    }
   ],
   "source": [
    "events_path = expected_filepaths[1]\n",
    "print_first_n_lines(events_path)"
   ]
  },
  {
   "cell_type": "markdown",
   "id": "cc77b660-b8be-4a57-ab8d-568ec71c0e73",
   "metadata": {},
   "source": [
    "<br>\n",
    "We will refer to this dataset as \"events\" because each record captures a distinct user interaction with music tracks,\n",
    "including details like who listened (user_id), when (timestamp), and what was played (artist and track info).\n",
    "\n",
    "The dataset doesn't have column headers, so we define its schema to properly parse the data."
   ]
  },
  {
   "cell_type": "code",
   "execution_count": 9,
   "id": "f357388e-f508-462b-a1b0-63bd0e4af0ca",
   "metadata": {},
   "outputs": [],
   "source": [
    "from pyspark.sql.types import StructType, StructField, StringType, IntegerType, TimestampType\n",
    "\n",
    "events_schema = StructType([\n",
    "    StructField(\"user_id\", StringType()),\n",
    "    StructField(\"timestamp\", TimestampType()),  # timestamp with timezone\n",
    "    StructField(\"musicbrainz_artist_id\", StringType()),\n",
    "    StructField(\"artist_name\", StringType()),\n",
    "    StructField(\"musicbrainz_track_id\", StringType()),\n",
    "    StructField(\"track_name\", StringType())\n",
    "])\n"
   ]
  },
  {
   "cell_type": "code",
   "execution_count": 12,
   "id": "789845e8-8eee-4f7b-8b8e-9799cb688c21",
   "metadata": {},
   "outputs": [
    {
     "name": "stdout",
     "output_type": "stream",
     "text": [
      "+-----------+-------------------+------------------------------------+-----------+--------------------+------------------------------------------+\n",
      "|user_id    |timestamp          |musicbrainz_artist_id               |artist_name|musicbrainz_track_id|track_name                                |\n",
      "+-----------+-------------------+------------------------------------+-----------+--------------------+------------------------------------------+\n",
      "|user_000001|2009-05-04 23:08:57|f1b1cf71-bd35-4e99-8624-24a6e15f133a|Deep Dish  |NULL                |Fuck Me Im Famous (Pacha Ibiza)-09-28-2007|\n",
      "|user_000001|2009-05-04 13:54:10|a7f7df4a-77d8-4f12-8acd-5c60c93f4de8|坂本龍一   |NULL                |Composition 0919 (Live_2009_4_15)         |\n",
      "|user_000001|2009-05-04 13:52:04|a7f7df4a-77d8-4f12-8acd-5c60c93f4de8|坂本龍一   |NULL                |Mc2 (Live_2009_4_15)                      |\n",
      "|user_000001|2009-05-04 13:42:52|a7f7df4a-77d8-4f12-8acd-5c60c93f4de8|坂本龍一   |NULL                |Hibari (Live_2009_4_15)                   |\n",
      "|user_000001|2009-05-04 13:42:11|a7f7df4a-77d8-4f12-8acd-5c60c93f4de8|坂本龍一   |NULL                |Mc1 (Live_2009_4_15)                      |\n",
      "+-----------+-------------------+------------------------------------+-----------+--------------------+------------------------------------------+\n",
      "only showing top 5 rows\n",
      "\n"
     ]
    }
   ],
   "source": [
    "events = spark.read.csv(events_path, sep='\\t', header=False, schema=events_schema).cache()\n",
    "\n",
    "events.show(5, truncate=False)"
   ]
  },
  {
   "cell_type": "code",
   "execution_count": 13,
   "id": "f78a8986-bfd1-4b0b-8d4f-4ed917489b66",
   "metadata": {},
   "outputs": [
    {
     "name": "stdout",
     "output_type": "stream",
     "text": [
      "root\n",
      " |-- user_id: string (nullable = true)\n",
      " |-- timestamp: timestamp (nullable = true)\n",
      " |-- musicbrainz_artist_id: string (nullable = true)\n",
      " |-- artist_name: string (nullable = true)\n",
      " |-- musicbrainz_track_id: string (nullable = true)\n",
      " |-- track_name: string (nullable = true)\n",
      "\n"
     ]
    }
   ],
   "source": [
    "events.printSchema()"
   ]
  },
  {
   "cell_type": "markdown",
   "id": "b231ab78-3624-4f5c-b9b5-7147a147d3a6",
   "metadata": {},
   "source": [
    "## 🧹 Data Cleaning"
   ]
  },
  {
   "cell_type": "markdown",
   "id": "540f774a-b1de-40cf-8734-f143bb69ff45",
   "metadata": {},
   "source": [
    "It appears that all the necessary information for our analysis is contained within the `events` dataset, making it unnecessary to clean/pre-process the `users` dataset.\n"
   ]
  },
  {
   "cell_type": "markdown",
   "id": "c5688394-f9c9-41e6-9974-8f5e7e52d70b",
   "metadata": {},
   "source": [
    "### Inspecting the Data"
   ]
  },
  {
   "cell_type": "code",
   "execution_count": 14,
   "id": "852f83c9-e0e1-40b0-9459-e97168ad09b0",
   "metadata": {},
   "outputs": [
    {
     "name": "stdout",
     "output_type": "stream",
     "text": [
      "There are 19,150,868 rows in the dataframe\n"
     ]
    }
   ],
   "source": [
    "total_rows = events.count()\n",
    "print(f\"There are {total_rows:,} rows in the dataframe\")"
   ]
  },
  {
   "cell_type": "code",
   "execution_count": 15,
   "id": "103ea2a0-1709-46ed-beae-41a3e307822d",
   "metadata": {},
   "outputs": [
    {
     "name": "stdout",
     "output_type": "stream",
     "text": [
      "+-------------------+-------------------+\n",
      "|      Min Timestamp|      Max Timestamp|\n",
      "+-------------------+-------------------+\n",
      "|2005-02-14 00:00:07|2013-09-29 18:32:04|\n",
      "+-------------------+-------------------+\n",
      "\n"
     ]
    }
   ],
   "source": [
    "events.select(F.min(\"timestamp\").alias(\"Min Timestamp\"), F.max(\"timestamp\").alias(\"Max Timestamp\")).show()"
   ]
  },
  {
   "cell_type": "markdown",
   "id": "fdc712d9-a9f4-47b8-b365-031c9fd13052",
   "metadata": {},
   "source": [
    "### Missing Values"
   ]
  },
  {
   "cell_type": "code",
   "execution_count": 16,
   "id": "148d830b-4552-40ec-9285-e1bd8cc8e9e2",
   "metadata": {},
   "outputs": [],
   "source": [
    "missing_values = events.select([F.count(F.when(F.col(c).isNull(), c)).alias(c) for c in events.columns]).collect()[0]"
   ]
  },
  {
   "cell_type": "code",
   "execution_count": 17,
   "id": "2b262817-7d88-4474-b016-b432cb89358b",
   "metadata": {},
   "outputs": [
    {
     "name": "stderr",
     "output_type": "stream",
     "text": [
      "INFO:numexpr.utils:NumExpr defaulting to 4 threads.\n"
     ]
    },
    {
     "name": "stdout",
     "output_type": "stream",
     "text": [
      "+-------+---------+---------------------+-----------+--------------------+----------+\n",
      "|user_id|timestamp|musicbrainz_artist_id|artist_name|musicbrainz_track_id|track_name|\n",
      "+-------+---------+---------------------+-----------+--------------------+----------+\n",
      "|      0|        0|               602166|          0|             2168588|         1|\n",
      "+-------+---------+---------------------+-----------+--------------------+----------+\n",
      "\n"
     ]
    }
   ],
   "source": [
    "spark.createDataFrame([missing_values]).show()"
   ]
  },
  {
   "cell_type": "markdown",
   "id": "8d134fb7-7309-41a5-b67e-5b1d0722b18e",
   "metadata": {},
   "source": [
    "Notes:\n",
    "- no missing `user_id`, `timestamp`, or `artist_name`\n",
    "- there is only 1 entry which is missing `track_name`\n",
    "- quite a few missing values for `musicbrainz_artist_id` and `musicbrainz_track_id`"
   ]
  },
  {
   "cell_type": "code",
   "execution_count": 18,
   "id": "84970ac5-5ebe-44a0-b708-84c7c6a74aea",
   "metadata": {},
   "outputs": [
    {
     "name": "stdout",
     "output_type": "stream",
     "text": [
      "+-----------+-------------------+---------------------+--------------------+--------------------+----------+\n",
      "|    user_id|          timestamp|musicbrainz_artist_id|         artist_name|musicbrainz_track_id|track_name|\n",
      "+-----------+-------------------+---------------------+--------------------+--------------------+----------+\n",
      "|user_000585|2009-01-14 03:56:02|                 NULL|Silence'' Foundat...|                NULL|      NULL|\n",
      "+-----------+-------------------+---------------------+--------------------+--------------------+----------+\n",
      "\n"
     ]
    }
   ],
   "source": [
    "events.filter(F.col(\"track_name\").isNull()).show()"
   ]
  },
  {
   "cell_type": "code",
   "execution_count": 19,
   "id": "fee87c5a-d397-4934-93f3-9ce4bb6b1e97",
   "metadata": {},
   "outputs": [
    {
     "name": "stdout",
     "output_type": "stream",
     "text": [
      "Proportion of missing MusicBrainz Artist IDs: 3.14%\n",
      "Proportion of missing MusicBrainz Track ID: 11.32%\n"
     ]
    }
   ],
   "source": [
    "missing_artist_id = missing_values['musicbrainz_artist_id']\n",
    "missing_track_id = missing_values['musicbrainz_track_id']\n",
    "\n",
    "print(f\"Proportion of missing MusicBrainz Artist IDs: {missing_artist_id / total_rows * 100:.2f}%\")\n",
    "print(f\"Proportion of missing MusicBrainz Track ID: {missing_track_id / total_rows * 100:.2f}%\")"
   ]
  },
  {
   "cell_type": "markdown",
   "id": "33853780-cbf1-4cee-a0b6-e4a242a1322f",
   "metadata": {},
   "source": [
    "### Distinct Values"
   ]
  },
  {
   "cell_type": "code",
   "execution_count": 20,
   "id": "843f2b05-2adc-4059-9616-acd89a8f4410",
   "metadata": {},
   "outputs": [
    {
     "name": "stdout",
     "output_type": "stream",
     "text": [
      "+-------+---------+---------------------+-----------+--------------------+----------+\n",
      "|user_id|timestamp|musicbrainz_artist_id|artist_name|musicbrainz_track_id|track_name|\n",
      "+-------+---------+---------------------+-----------+--------------------+----------+\n",
      "|    925| 18266792|                99615|     175171|              946997|   1069655|\n",
      "+-------+---------+---------------------+-----------+--------------------+----------+\n",
      "\n"
     ]
    }
   ],
   "source": [
    "events.select([F.approx_count_distinct(F.col(c)).alias(c) for c in events.columns]).show()"
   ]
  },
  {
   "cell_type": "markdown",
   "id": "31250e37-b29c-4ab4-a79b-23de1f5a5188",
   "metadata": {},
   "source": [
    "### Distinct `musicbrainz_track_id` for `track_name`, `artist_name`"
   ]
  },
  {
   "cell_type": "code",
   "execution_count": 21,
   "id": "7408b360-e6d1-4e63-9b6b-7d14e721ec64",
   "metadata": {},
   "outputs": [
    {
     "name": "stdout",
     "output_type": "stream",
     "text": [
      "+--------------------------------------------------------------------------------------+-----------------------+-----------------+\n",
      "|track_name                                                                            |artist_name            |distinct_track_id|\n",
      "+--------------------------------------------------------------------------------------+-----------------------+-----------------+\n",
      "|I Still Haven'T Found What I'M Looking For                                            |U2                     |6                |\n",
      "|You Think I Ain'T Worth A Dollar, But I Feel Like A Millionaire                       |Queens Of The Stone Age|5                |\n",
      "|Another Brick In The Wall, Part 2                                                     |Pink Floyd             |5                |\n",
      "|Everybody'S Got Something To Hide Except Me And My Monkey                             |The Beatles            |5                |\n",
      "|San Francisco (Be Sure To Wear Flowers In Your Hair)                                  |Scott Mckenzie         |5                |\n",
      "|Any Colour You Like                                                                   |Pink Floyd             |5                |\n",
      "|Ever Fallen In Love (With Someone You Shouldn'T'Ve)                                   |Buzzcocks              |5                |\n",
      "|Jesus Doesn'T Want Me For A Sunbeam                                                   |Nirvana                |4                |\n",
      "|Sgt. Pepper'S Lonely Hearts Club Band                                                 |The Beatles            |4                |\n",
      "|Living Loving Maid (She'S Just A Woman)                                               |Led Zeppelin           |4                |\n",
      "|Hearts Frozen Solid, Thawed Once More By The Spring Of Rage, Despair, And Hopelessness|Afi                    |4                |\n",
      "|Don'T You (Forget About Me)                                                           |Simple Minds           |4                |\n",
      "|I Am Trying To Break Your Heart                                                       |Wilco                  |4                |\n",
      "|I Bet You Look Good On The Dancefloor                                                 |Arctic Monkeys         |4                |\n",
      "|Babe I'M Gonna Leave You                                                              |Led Zeppelin           |4                |\n",
      "|God Moving Over The Face Of The Waters                                                |Moby                   |4                |\n",
      "|You Can'T Always Get What You Want                                                    |The Rolling Stones     |4                |\n",
      "|I Saw Her Standing There                                                              |The Beatles            |4                |\n",
      "|While My Guitar Gently Weeps                                                          |The Beatles            |4                |\n",
      "|I'Ve Got You Under My Skin                                                            |Frank Sinatra          |4                |\n",
      "+--------------------------------------------------------------------------------------+-----------------------+-----------------+\n",
      "only showing top 20 rows\n",
      "\n"
     ]
    }
   ],
   "source": [
    "events.groupBy(\"track_name\", \"artist_name\").agg(F.countDistinct(\"musicbrainz_track_id\").alias(\"distinct_track_id\")).orderBy(F.col(\"distinct_track_id\").desc()).show(truncate=False)"
   ]
  },
  {
   "cell_type": "code",
   "execution_count": 22,
   "id": "fd63460b-aea3-400b-9635-d38173509321",
   "metadata": {},
   "outputs": [
    {
     "name": "stdout",
     "output_type": "stream",
     "text": [
      "+------------------------------------+--------------------+------------------------------------+-------------------+\n",
      "|musicbrainz_artist_id               |artist_name         |musicbrainz_track_id                |track_name         |\n",
      "+------------------------------------+--------------------+------------------------------------+-------------------+\n",
      "|28503ab7-8bf2-4666-a7bd-2644bfc7cb1d|Dream Theater       |2202990e-35e6-43ee-ae31-9aac5635e1a5|Any Colour You Like|\n",
      "|0cee95e3-a61d-4cd1-a39c-75464a05b606|Easy Star All-Stars |a4aadf18-f092-4baf-8520-cc1d2696726f|Any Colour You Like|\n",
      "|83d91898-7763-47d7-b03b-b92132375c47|Pink Floyd          |7c278a16-ae04-460c-88ea-39155cadcd09|Any Colour You Like|\n",
      "|83d91898-7763-47d7-b03b-b92132375c47|Pink Floyd          |20f8d183-6124-4cde-af19-04478f4fdb89|Any Colour You Like|\n",
      "|83d91898-7763-47d7-b03b-b92132375c47|Pink Floyd          |132a3134-f168-4ee8-9e5b-0f1d52ecb5ff|Any Colour You Like|\n",
      "|83d91898-7763-47d7-b03b-b92132375c47|Pink Floyd          |0fa82d1a-c573-405b-9279-8f5cf774c66b|Any Colour You Like|\n",
      "|83d91898-7763-47d7-b03b-b92132375c47|Pink Floyd          |644bac5d-7061-43fa-b518-b8b3116e7d66|Any Colour You Like|\n",
      "|NULL                                |Pink Floyd - The Orb|NULL                                |Any Colour You Like|\n",
      "|0f50beab-d77d-4f0f-ac26-0b87d3e9b11b|Roger Waters        |f3d08478-9cf9-4257-9e42-ef7492e3d479|Any Colour You Like|\n",
      "|9390a27f-d63d-43ac-a771-a0e0794fee61|The String Quartet  |NULL                                |Any Colour You Like|\n",
      "+------------------------------------+--------------------+------------------------------------+-------------------+\n",
      "\n"
     ]
    }
   ],
   "source": [
    "# print example of a song with multiple artists and multiple recording\n",
    "(events.select(\"musicbrainz_artist_id\", \"artist_name\", \"musicbrainz_track_id\", \"track_name\").filter(\n",
    "    (events[\"track_name\"] == \"Any Colour You Like\")\n",
    ").distinct().orderBy(\"artist_name\").show(truncate=False))\n"
   ]
  },
  {
   "cell_type": "markdown",
   "id": "c56d6435-56dd-42be-b272-08ba2fb2da4e",
   "metadata": {},
   "source": [
    "## 📊 Analysis"
   ]
  },
  {
   "cell_type": "markdown",
   "id": "03f46f8f-bb99-4237-8ecc-f67b7f3e3098",
   "metadata": {},
   "source": [
    "### Session Definition"
   ]
  },
  {
   "cell_type": "markdown",
   "id": "57bff7d0-c8cc-4af8-be9a-c67057c6a8aa",
   "metadata": {},
   "source": [
    "Define user sessions based on the 20-minute rule (i.e. 1200 seconds)"
   ]
  },
  {
   "cell_type": "code",
   "execution_count": 23,
   "id": "b317b4d8-16e7-4164-ab63-1d5eb767e38b",
   "metadata": {},
   "outputs": [],
   "source": [
    "from pyspark.sql.window import Window\n",
    "threshold = 1200 "
   ]
  },
  {
   "cell_type": "code",
   "execution_count": 24,
   "id": "80d5507d-a0d8-4ee2-a235-dfb66a2fc12d",
   "metadata": {},
   "outputs": [],
   "source": [
    "# partition the data by user_id and order by timestamp (ascending)\n",
    "window = Window.partitionBy(\"user_id\").orderBy(\"timestamp\")"
   ]
  },
  {
   "cell_type": "code",
   "execution_count": 25,
   "id": "778887de-e608-4b53-b207-63d7d336bbad",
   "metadata": {},
   "outputs": [],
   "source": [
    "# get the timestamp of the previously played song for each user\n",
    "events = events.withColumn(\"previous_timestamp\", F.lag(F.col(\"timestamp\")).over(window))"
   ]
  },
  {
   "cell_type": "code",
   "execution_count": 26,
   "id": "fc89e0ab-6671-4ec8-b7fd-796a67027290",
   "metadata": {},
   "outputs": [],
   "source": [
    "# compute the time difference in seconds between the start of consecutive songs \n",
    "events = events.withColumn(\"time_diff_seconds\", F.unix_timestamp(\"timestamp\") - F.unix_timestamp(\"previous_timestamp\"))"
   ]
  },
  {
   "cell_type": "code",
   "execution_count": 27,
   "id": "2a303c26-870e-4da1-82c6-fe1f22286715",
   "metadata": {},
   "outputs": [],
   "source": [
    "# compute if a new session started, i.e. if it's the first song played or more than x seconds have elapsed between 2 songs, where x = threshold\n",
    "events = events.withColumn(\"new_session\",\n",
    "                   ((F.col(\"time_diff_seconds\").isNull()) | (F.col(\"time_diff_seconds\") > threshold)\n",
    "                   ).cast(\"integer\"))"
   ]
  },
  {
   "cell_type": "code",
   "execution_count": 28,
   "id": "12d84bb0-9892-4b4e-9dc7-1a83c9994a0e",
   "metadata": {},
   "outputs": [],
   "source": [
    "# create session identifiers\n",
    "events = events.withColumn(\"session_id\", F.sum(F.col(\"new_session\")).over(window))"
   ]
  },
  {
   "cell_type": "code",
   "execution_count": 29,
   "id": "4cb7b63f-0863-48e8-a86e-d6aec610faac",
   "metadata": {},
   "outputs": [
    {
     "name": "stdout",
     "output_type": "stream",
     "text": [
      "+-----------+-------------------+---------------------+--------------------+--------------------+--------------------+-------------------+-----------------+-----------+----------+\n",
      "|    user_id|          timestamp|musicbrainz_artist_id|         artist_name|musicbrainz_track_id|          track_name| previous_timestamp|time_diff_seconds|new_session|session_id|\n",
      "+-----------+-------------------+---------------------+--------------------+--------------------+--------------------+-------------------+-----------------+-----------+----------+\n",
      "|user_000034|2005-09-15 21:01:31| 2feb192c-2363-46d...|    The Afghan Whigs|                NULL|How Soon Is Now (...|               NULL|             NULL|          1|         1|\n",
      "|user_000034|2005-09-15 21:05:03| fe3503fb-146f-4d6...|    Afrika Bambaataa|8e025002-e43c-41d...|Zulu Nation Throw...|2005-09-15 21:01:31|              212|          0|         1|\n",
      "|user_000034|2005-09-15 21:18:12| fe3503fb-146f-4d6...|    Afrika Bambaataa|d081e710-a4cf-43d...|Jazzy Sensation (...|2005-09-15 21:05:03|              789|          0|         1|\n",
      "|user_000034|2005-09-15 21:27:51| fe3503fb-146f-4d6...|    Afrika Bambaataa|19f25ddb-77f7-448...|         Planet Rock|2005-09-15 21:18:12|              579|          0|         1|\n",
      "|user_000034|2005-09-16 13:30:04| db612997-f11e-424...|Asian Dub Foundation|65699429-f33b-4fa...|          Memory War|2005-09-15 21:27:51|            57733|          1|         2|\n",
      "|user_000034|2005-09-16 13:33:27| db612997-f11e-424...|Asian Dub Foundation|e2c3ed94-97fb-486...|          Officer Xx|2005-09-16 13:30:04|              203|          0|         2|\n",
      "|user_000034|2005-09-16 13:37:03| db612997-f11e-424...|Asian Dub Foundation|745b8bb1-e3b0-4b1...|   New Way, New Life|2005-09-16 13:33:27|              216|          0|         2|\n",
      "|user_000034|2005-09-16 13:41:59| db612997-f11e-424...|Asian Dub Foundation|f0d08ee6-caa2-42e...|       Riddim I Like|2005-09-16 13:37:03|              296|          0|         2|\n",
      "|user_000034|2005-09-16 13:46:18| db612997-f11e-424...|Asian Dub Foundation|e2c133e6-712d-45b...|     Collective Mode|2005-09-16 13:41:59|              259|          0|         2|\n",
      "|user_000034|2005-09-16 13:50:09| db612997-f11e-424...|Asian Dub Foundation|e22ee971-59ba-406...|               Crash|2005-09-16 13:46:18|              231|          0|         2|\n",
      "|user_000034|2005-09-16 13:55:30| db612997-f11e-424...|Asian Dub Foundation|054d2ea0-5e79-463...|         Colour Line|2005-09-16 13:50:09|              321|          0|         2|\n",
      "|user_000034|2005-09-16 13:59:27| db612997-f11e-424...|Asian Dub Foundation|b827c90f-dc5a-459...|            Taa Deem|2005-09-16 13:55:30|              237|          0|         2|\n",
      "|user_000034|2005-09-16 14:04:08| db612997-f11e-424...|Asian Dub Foundation|6ac35358-05dd-494...|       The Judgement|2005-09-16 13:59:27|              281|          0|         2|\n",
      "|user_000034|2005-09-16 14:08:17| db612997-f11e-424...|Asian Dub Foundation|672396a0-e474-461...|         Truth Hides|2005-09-16 14:04:08|              249|          0|         2|\n",
      "|user_000034|2005-09-16 14:16:34| db612997-f11e-424...|Asian Dub Foundation|d97174c6-dd10-43e...|       Rebel Warrior|2005-09-16 14:08:17|              497|          0|         2|\n",
      "|user_000034|2005-09-16 14:22:52| db612997-f11e-424...|Asian Dub Foundation|669e2cfd-b787-4fb...|   Committed To Life|2005-09-16 14:16:34|              378|          0|         2|\n",
      "|user_000034|2005-09-16 14:27:31| db612997-f11e-424...|Asian Dub Foundation|c95288fd-8864-43a...| Scaling New Heights|2005-09-16 14:22:52|              279|          0|         2|\n",
      "|user_000034|2005-09-16 14:32:49| 2c916f95-f6ba-46f...|  The Fiery Furnaces|2b998231-bb49-4a0...|South Is Only A Home|2005-09-16 14:27:31|              318|          0|         2|\n",
      "|user_000034|2005-09-16 14:35:18| 2c916f95-f6ba-46f...|  The Fiery Furnaces|648f48b9-6d95-4c2...|       I'M Gonna Run|2005-09-16 14:32:49|              149|          0|         2|\n",
      "|user_000034|2005-09-16 14:38:13| 2c916f95-f6ba-46f...|  The Fiery Furnaces|582664ad-e1b7-47b...|        Leaky Tunnel|2005-09-16 14:35:18|              175|          0|         2|\n",
      "+-----------+-------------------+---------------------+--------------------+--------------------+--------------------+-------------------+-----------------+-----------+----------+\n",
      "only showing top 20 rows\n",
      "\n"
     ]
    }
   ],
   "source": [
    "# show top 20 rows for debugging purposes - could be removed to avoid unnecessary computation as show() triggers an action and computes the results immediately\n",
    "events.show()"
   ]
  },
  {
   "cell_type": "markdown",
   "id": "8e520679-75a5-46f7-a2b4-a99429d37683",
   "metadata": {},
   "source": [
    "### Session Ranking"
   ]
  },
  {
   "cell_type": "code",
   "execution_count": 30,
   "id": "22a04597-49b1-4930-a04b-2a7f414d40be",
   "metadata": {},
   "outputs": [],
   "source": [
    "# for each user session, identify the min and the max timestamp\n",
    "df_sessions = events.groupBy(\"user_id\", \"session_id\").agg(\n",
    "    F.min(\"timestamp\").alias(\"min_timestamp\"),\n",
    "    F.max(\"timestamp\").alias(\"max_timestamp\")\n",
    ")"
   ]
  },
  {
   "cell_type": "code",
   "execution_count": 31,
   "id": "ac7ec5a3-48e7-49a7-93d7-025e5165abe0",
   "metadata": {},
   "outputs": [],
   "source": [
    "# compute the session duration\n",
    "df_sessions = (df_sessions.withColumn(\"session_duration\", \n",
    "                                      F.unix_timestamp(\"max_timestamp\") - F.unix_timestamp(\"min_timestamp\"))\n",
    "              )"
   ]
  },
  {
   "cell_type": "code",
   "execution_count": 45,
   "id": "dc990ae6-b4b9-4adc-bb71-ffb1767b23e6",
   "metadata": {},
   "outputs": [
    {
     "name": "stdout",
     "output_type": "stream",
     "text": [
      "+-----------+----------+-------------------+-------------------+----------------+\n",
      "|    user_id|session_id|      min_timestamp|      max_timestamp|session_duration|\n",
      "+-----------+----------+-------------------+-------------------+----------------+\n",
      "|user_000949|       151|2006-02-12 17:49:31|2006-02-27 11:29:37|         1273206|\n",
      "|user_000997|        18|2007-04-26 00:36:02|2007-05-10 17:55:03|         1271941|\n",
      "|user_000949|       559|2007-05-01 02:41:15|2007-05-14 00:05:52|         1113877|\n",
      "|user_000544|        75|2007-02-12 13:03:52|2007-02-23 00:51:08|          906436|\n",
      "|user_000949|       139|2005-12-09 08:26:38|2005-12-18 04:40:04|          764006|\n",
      "|user_000949|       125|2005-11-11 03:30:37|2005-11-18 22:50:07|          674370|\n",
      "|user_000949|       189|2006-03-18 23:04:14|2006-03-26 18:13:45|          673771|\n",
      "|user_000544|        55|2007-01-06 01:07:04|2007-01-13 13:57:45|          651041|\n",
      "|user_000250|      1285|2008-02-21 15:31:45|2008-02-28 21:18:03|          625578|\n",
      "|user_000949|       152|2006-02-27 17:47:28|2006-03-06 19:52:35|          612307|\n",
      "|user_000949|       148|2006-01-25 20:08:49|2006-02-01 21:12:03|          608594|\n",
      "|user_000885|        65|2006-02-25 07:44:15|2006-03-04 06:32:49|          600514|\n",
      "|user_000949|       149|2006-02-05 12:00:53|2006-02-12 06:40:52|          585599|\n",
      "|user_000949|       118|2005-10-24 10:28:25|2005-10-30 22:41:02|          562357|\n",
      "|user_000544|        56|2007-01-14 04:15:54|2007-01-20 14:31:38|          555344|\n",
      "|user_000949|       212|2006-04-22 20:38:49|2006-04-29 05:29:45|          550256|\n",
      "|user_000974|         6|2007-06-02 01:03:39|2007-06-08 06:12:11|          536912|\n",
      "|user_000949|       144|2006-01-08 12:01:24|2006-01-14 16:37:58|          534994|\n",
      "|user_000997|        19|2007-05-11 14:04:42|2007-05-17 18:11:57|          533235|\n",
      "|user_000949|       708|2008-03-11 21:16:11|2008-03-18 00:57:25|          531674|\n",
      "+-----------+----------+-------------------+-------------------+----------------+\n",
      "only showing top 20 rows\n",
      "\n"
     ]
    }
   ],
   "source": [
    "# identify the top 50 longest sessions\n",
    "top_50_sessions = df_sessions.orderBy(F.desc(\"session_duration\")).limit(50).cache()\n",
    "\n",
    "top_50_sessions.orderBy(F.desc(\"session_duration\")).show()"
   ]
  },
  {
   "cell_type": "markdown",
   "id": "0080b039-6edb-4aed-894d-3e4487703544",
   "metadata": {},
   "source": [
    "## 🏆 Results and Discussion"
   ]
  },
  {
   "cell_type": "markdown",
   "id": "1ebc4249-30ad-4971-9d23-efb153877688",
   "metadata": {},
   "source": [
    "### Song Ranking"
   ]
  },
  {
   "cell_type": "code",
   "execution_count": 33,
   "id": "115449a1-cf51-4313-a1d5-d9d0e0e17140",
   "metadata": {},
   "outputs": [],
   "source": [
    "# filter the events dataframe to keep only the songs played in the top 50 sessions\n",
    "songs_in_top_50_sessions = (events.select(\"user_id\", \"session_id\", \"musicbrainz_track_id\", \"artist_name\", \"track_name\")\n",
    "                            .join(top_50_sessions.select(\"user_id\", \"session_id\"), \n",
    "                                  [\"user_id\", \"session_id\"], \"inner\")\n",
    "                           ).cache()"
   ]
  },
  {
   "cell_type": "markdown",
   "id": "d2e4536b-8a13-4e8b-920a-215be0cfd174",
   "metadata": {},
   "source": [
    "#### Method 1: use Track Name and Artist Name to uniquely identify a song "
   ]
  },
  {
   "cell_type": "code",
   "execution_count": 34,
   "id": "90fcb7d4-00ec-4741-90c3-38279ddd75c2",
   "metadata": {},
   "outputs": [],
   "source": [
    "song_counts = (songs_in_top_50_sessions.groupBy(\"track_name\", \"artist_name\")\n",
    "                            .agg(F.count(\"*\").alias(\"count\"))\n",
    "                           )"
   ]
  },
  {
   "cell_type": "code",
   "execution_count": 35,
   "id": "701c4bce-92f1-4757-8043-bb227ad3178c",
   "metadata": {},
   "outputs": [],
   "source": [
    "# identify the most played 10 songs \n",
    "top_10_songs = song_counts.orderBy(F.desc(\"count\")).limit(10).cache()"
   ]
  },
  {
   "cell_type": "code",
   "execution_count": 36,
   "id": "7a31cce2-f63f-4b60-a48f-d84489063ee6",
   "metadata": {},
   "outputs": [
    {
     "name": "stdout",
     "output_type": "stream",
     "text": [
      "+--------------------+--------------------+-----+\n",
      "|          track_name|         artist_name|count|\n",
      "+--------------------+--------------------+-----+\n",
      "|              Jolene|                Cake| 1215|\n",
      "|          Heartbeats|           The Knife|  864|\n",
      "|How Long Will It ...|Jeff Buckley & Ga...|  809|\n",
      "|Anthems For A Sev...| Broken Social Scene|  659|\n",
      "|     St. Ides Heaven|       Elliott Smith|  646|\n",
      "|         Bonus Track|         The Killers|  634|\n",
      "|Starin' Through M...|                2Pac|  616|\n",
      "|     Beast Of Burden|  The Rolling Stones|  613|\n",
      "|           The Swing|           Everclear|  604|\n",
      "| When You Were Young|         The Killers|  520|\n",
      "+--------------------+--------------------+-----+\n",
      "\n"
     ]
    }
   ],
   "source": [
    "# show the top 10 most frequent track and artist combinations - could be removed to avoid unnecessary computation\n",
    "top_10_songs.show()"
   ]
  },
  {
   "cell_type": "markdown",
   "id": "ba648a02-75a4-4a4e-b419-c02d76caeb6d",
   "metadata": {},
   "source": [
    "#### Method 2: add the MusicBrainz Track ID to uniquely identify a song"
   ]
  },
  {
   "cell_type": "markdown",
   "id": "b8610584-f553-4fef-83c2-e0998e8833b4",
   "metadata": {},
   "source": [
    "To enhance granularity, we use the `musicbrainz_track_id` to precisely identify a song, distinguishing, for example, between two different recordings of the same song by the same artist.\n"
   ]
  },
  {
   "cell_type": "code",
   "execution_count": 37,
   "id": "dab0d7ff-7748-4dd5-b5c5-d2cf14b8f71e",
   "metadata": {},
   "outputs": [],
   "source": [
    "# musicbrainz_track_id can be null, so we first exclude the null values\n",
    "non_null_track_id = songs_in_top_50_sessions.filter(songs_in_top_50_sessions.musicbrainz_track_id.isNotNull())"
   ]
  },
  {
   "cell_type": "code",
   "execution_count": 38,
   "id": "c2ce79b4-3d82-4010-b9b2-651d9050a2c1",
   "metadata": {},
   "outputs": [],
   "source": [
    "song_counts_with_track_id = (non_null_track_id.groupBy(\"track_name\", \"artist_name\", \"musicbrainz_track_id\")\n",
    "                            .agg(F.count(\"*\").alias(\"count\"))\n",
    "                           )"
   ]
  },
  {
   "cell_type": "code",
   "execution_count": 39,
   "id": "a9ef9a22-c220-4344-8e5e-9d733475d643",
   "metadata": {},
   "outputs": [],
   "source": [
    "top_10_songs_with_track_id = song_counts_with_track_id.orderBy(F.desc(\"count\")).limit(10).cache()"
   ]
  },
  {
   "cell_type": "code",
   "execution_count": 40,
   "id": "c3f7c089-10f4-40c4-8c1f-86276baa6463",
   "metadata": {},
   "outputs": [
    {
     "name": "stdout",
     "output_type": "stream",
     "text": [
      "+--------------------+--------------------+--------------------+-----+\n",
      "|          track_name|         artist_name|musicbrainz_track_id|count|\n",
      "+--------------------+--------------------+--------------------+-----+\n",
      "|              Jolene|                Cake|60f0bfa4-8da9-484...| 1215|\n",
      "|          Heartbeats|           The Knife|db4c9220-df76-4b4...|  864|\n",
      "|How Long Will It ...|Jeff Buckley & Ga...|c2b14074-15d6-40c...|  809|\n",
      "|Anthems For A Sev...| Broken Social Scene|91951530-d978-464...|  659|\n",
      "|     St. Ides Heaven|       Elliott Smith|45c773c3-c8f0-41a...|  646|\n",
      "|Starin' Through M...|                2Pac|b649b4ba-4912-4ad...|  616|\n",
      "|     Beast Of Burden|  The Rolling Stones|55956d3e-c5d4-433...|  613|\n",
      "|           The Swing|           Everclear|9ad11ca6-c5b9-4a2...|  604|\n",
      "| When You Were Young|         The Killers|4ad08552-6c35-49e...|  520|\n",
      "|            Mojo Pin|        Jeff Buckley|19dcc05e-6f91-42e...|  489|\n",
      "+--------------------+--------------------+--------------------+-----+\n",
      "\n"
     ]
    }
   ],
   "source": [
    "# show the top 10 most frequent track and artist combinations, also considering the track_id - could be removed to avoid unnecessary computation\n",
    "top_10_songs_with_track_id.show()"
   ]
  },
  {
   "cell_type": "code",
   "execution_count": 41,
   "id": "2df009d4-b639-4c15-a8d5-98b1832ee4bb",
   "metadata": {},
   "outputs": [
    {
     "name": "stdout",
     "output_type": "stream",
     "text": [
      "+------------------------------------+-----------+--------------------+-----------+\n",
      "|musicbrainz_artist_id               |artist_name|musicbrainz_track_id|track_name |\n",
      "+------------------------------------+-----------+--------------------+-----------+\n",
      "|95e1ead9-4d31-4808-a7ac-32c3614c116b|The Killers|NULL                |Bonus Track|\n",
      "+------------------------------------+-----------+--------------------+-----------+\n",
      "\n"
     ]
    }
   ],
   "source": [
    "(events.select(\"musicbrainz_artist_id\", \"artist_name\", \"musicbrainz_track_id\", \"track_name\").filter(\n",
    "    (events[\"track_name\"] == \"Bonus Track\") &\n",
    "    (events[\"artist_name\"] == \"The Killers\")\n",
    ").distinct().show(truncate=False))\n"
   ]
  },
  {
   "cell_type": "markdown",
   "id": "f53816ff-a48c-49c8-85ab-ab89cf60e139",
   "metadata": {},
   "source": [
    "Recall that Method 1 identifies songs using only `track_name` and `artist_name`, while Method 2 enhances identification by incorporating the `musicbrainz_track_id`.\n",
    "\n",
    "Despite this methodological difference, the rankings produced by both methods are largely similar, except for one notable deviation: Method 1 ranks \"Bonus Track\" by The Killers as the sixth most popular song. <br>\n",
    "However, \"Bonus Track\" likely denotes an unspecified piece of music included as an extra on an album, rather than a distinct song by The Killers. <br>\n",
    "This ambiguity does not provide meaningful insights into song popularity, given the lack of information about the actual song.\n",
    "\n",
    "Furthermore, the inclusion of the `musicbrainz_track_id` in Method 2 allows for more precise identification of songs, enhancing the accuracy of our rankings. <br>\n",
    "This is particularly beneficial if we aim to stream the exact version of a song.\n",
    "\n",
    "Given these advantages, we decide to proceed with Method 2."
   ]
  },
  {
   "cell_type": "markdown",
   "id": "65ded0bf-36c7-4004-ace9-4bd59c16cbe5",
   "metadata": {},
   "source": [
    "### Export Results"
   ]
  },
  {
   "cell_type": "code",
   "execution_count": 42,
   "id": "4eee42e2-1ace-4c9b-8f8c-3a7925c3751f",
   "metadata": {},
   "outputs": [],
   "source": [
    "import pandas as pd\n",
    "\n",
    "results_dir = config[\"output_directory\"]\n",
    "file_path = os.path.join(results_dir, 'top_10_songs_in_50_longest_user_sessions.tsv')\n",
    "\n",
    "df = top_10_songs_with_track_id.select(\"track_name\", \"artist_name\", \"musicbrainz_track_id\").toPandas()\n",
    "df.to_csv(file_path, sep='\\t', index=False, header=True)"
   ]
  }
 ],
 "metadata": {
  "kernelspec": {
   "display_name": "Python 3 (ipykernel)",
   "language": "python",
   "name": "python3"
  },
  "language_info": {
   "codemirror_mode": {
    "name": "ipython",
    "version": 3
   },
   "file_extension": ".py",
   "mimetype": "text/x-python",
   "name": "python",
   "nbconvert_exporter": "python",
   "pygments_lexer": "ipython3",
   "version": "3.11.9"
  }
 },
 "nbformat": 4,
 "nbformat_minor": 5
}
